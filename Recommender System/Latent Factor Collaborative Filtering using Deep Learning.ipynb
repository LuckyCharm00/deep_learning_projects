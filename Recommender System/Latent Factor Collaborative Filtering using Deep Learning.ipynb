{
 "cells": [
  {
   "cell_type": "markdown",
   "metadata": {},
   "source": [
    "# Latent Factor Collaborative Filtering using Deep Learning"
   ]
  },
  {
   "cell_type": "code",
   "execution_count": 2,
   "metadata": {},
   "outputs": [],
   "source": [
    "#!/usr/bin/python\n",
    "# -*- coding: utf-8 -*-\n",
    "#Load the packages \n",
    "import numpy as np\n",
    "import pandas as pd\n",
    "from pathlib import Path\n",
    "from sklearn.model_selection import train_test_split\n",
    "from keras.layers import Embedding, Reshape,dot,Input,Dense\n",
    "from keras.models import Sequential,Model\n",
    "from keras.callbacks import Callback, EarlyStopping, ModelCheckpoint\n",
    "from keras.utils.vis_utils import plot_model\n",
    "import matplotlib.pyplot as plt"
   ]
  },
  {
   "cell_type": "markdown",
   "metadata": {},
   "source": [
    "Define the Required Functions"
   ]
  },
  {
   "cell_type": "code",
   "execution_count": null,
   "metadata": {},
   "outputs": [],
   "source": [
    "data_dir = Path('/home/santanu/ML_DS_Catalog-/Collaborating Filtering/ml-100k/')\n",
    "outdir = Path('/home/santanu/ML_DS_Catalog-/Collaborating Filtering/ml-100k/')\n",
    "\n",
    "#Function to read data \n",
    "def create_data(rating,header_cols):\n",
    "    data = pd.read_csv(rating,header=None,sep='\\t')\n",
    "    #print(data)\n",
    "    data.columns = header_cols\n",
    "    return data\n",
    " \n",
    "#Movie id to movie name dict \n",
    "def create_movie_dict(movie_file):\n",
    "    print(movie_file)\n",
    "    df = pd.read_csv(movie_file,sep='|', encoding='latin-1',header=None)\n",
    "    movie_dict = {}\n",
    "    movie_ids = list(df[0].values)\n",
    "    movie_name = list(df[1].values)\n",
    "    for k,v in zip(movie_ids,movie_name):\n",
    "        movie_dict[k] = v \n",
    "    return movie_dict\n",
    "# Function to create training validation and test data\n",
    "def train_val(df,val_frac=None):\n",
    "    X,y = df[['userID','movieID']].values,df['rating'].values\n",
    "    #Offset the ids by 1 for the ids to start from zero\n",
    "    X = X - 1 \n",
    "    if val_frac != None:\n",
    "        X_train, X_test, y_train, y_val = train_test_split(X, y, test_size=val_frac,random_state=0)\n",
    "        return X_train, X_val, y_train, y_val\n",
    "    else:\n",
    "        return X,y\n",
    "\n",
    "#  Define Model\n",
    "# Converts the userId and the MovieId to embedding sizes of a given latent dimension and then takes the dot product \n",
    "# of those embeddings to get the rating score. \n",
    "def model(max_users,max_movies,latent_factors):\n",
    "    user_ID = Input(shape=(1,))\n",
    "    movie_ID = Input(shape=(1,))\n",
    "    x = Embedding(max_users,latent_factors, input_length=1)(user_ID)\n",
    "    print(x.shape)\n",
    "    y = Embedding(max_movies,latent_factors, input_length=1)(movie_ID)\n",
    "    print(y.shape)\n",
    "    out = dot([x,y],axes=2, normalize=False)\n",
    "    out= Reshape((1,))(out)\n",
    "    model = Model(inputs=[user_ID,movie_ID],outputs=out)\n",
    "    print(model.summary())\n",
    "    return model"
   ]
  },
  {
   "cell_type": "markdown",
   "metadata": {},
   "source": [
    "Data Processing and Model Training"
   ]
  },
  {
   "cell_type": "code",
   "execution_count": null,
   "metadata": {},
   "outputs": [],
   "source": [
    "#Data Processing and Model Training \n",
    "\n",
    "train_ratings_df = create_data(f'{data_dir}/u1.base',['userID','movieID','rating','timestamp']) \n",
    "test_ratings_df = create_data(f'{data_dir}/u1.test',['userID','movieID','rating','timestamp']) \n",
    "X_train, X_val,y_train, y_val = train_val(train_ratings_df,val_frac=0.2)\n",
    "movie_dict = create_movie_dict(f'{data_dir}/u.item')\n",
    "num_users = len(train_ratings_df['userID'].unique())\n",
    "num_movies = len(train_ratings_df['movieID'].unique())\n",
    "\n",
    "print(f'Number of users {num_users}')\n",
    "print(f'Number of movies {num_movies}')\n",
    "model = model(num_users,num_movies,40)\n",
    "plot_model(model, to_file='model_plot.png', show_shapes=True, show_layer_names=True)\n",
    "model.compile(loss='mse',optimizer='adam')\n",
    "callbacks = [EarlyStopping('val_loss', patience=2), \n",
    "             ModelCheckpoint(f'{outdir}/nn_factor_model.h5', save_best_only=True)]\n",
    "model.fit([X_train[:,0],X_train[:,1]], y_train, nb_epoch=30, validation_data=([X_val[:,0],X_val[:,1]], y_val), verbose=2, callbacks=callbacks)"
   ]
  },
  {
   "cell_type": "markdown",
   "metadata": {},
   "source": [
    "Evaluate on the test dataset"
   ]
  },
  {
   "cell_type": "code",
   "execution_count": null,
   "metadata": {},
   "outputs": [],
   "source": [
    "#Evaluate on the test dataset \n",
    "from keras.models import load_model\n",
    "model = load_model(f'{outdir}/nn_factor_model.h5')\n",
    "X_test,y_test = train_val(test_ratings_df,val_frac=None)\n",
    "pred = model.predict([X_test[:,0],X_test[:,1]])[:,0]\n",
    "print('Hold out test set RMSE:',(np.mean((pred - y_test)**2)**0.5))\n",
    "pred = np.round(pred)\n",
    "test_ratings_df['predictions'] = pred\n",
    "test_ratings_df['movie_name'] = test_ratings_df['movieID'].apply(lambda x:movie_dict[x])"
   ]
  },
  {
   "cell_type": "markdown",
   "metadata": {},
   "source": [
    "Check Evaluation results for the UserID = 1"
   ]
  },
  {
   "cell_type": "code",
   "execution_count": null,
   "metadata": {},
   "outputs": [],
   "source": [
    "#Check evaluation results for the UserID = 1 \n",
    "test_ratings_df[test_ratings_df['userID'] == 1].sort_values(['rating','predictions'],ascending=False)"
   ]
  },
  {
   "cell_type": "markdown",
   "metadata": {},
   "source": [
    "Check UserID = 1 movie ratings in train dataset"
   ]
  },
  {
   "cell_type": "code",
   "execution_count": null,
   "metadata": {},
   "outputs": [],
   "source": [
    "#Check UserID = 1 movie ratings in train dataset\n",
    "train_ratings_df['movie_name'] = train_ratings_df['movieID'].apply(lambda x:movie_dict[x])\n",
    "train_ratings_df[train_ratings_df['userID'] == 1].sort_values(['rating'],ascending=False)"
   ]
  }
 ],
 "metadata": {
  "interpreter": {
   "hash": "40d3a090f54c6569ab1632332b64b2c03c39dcf918b08424e98f38b5ae0af88f"
  },
  "kernelspec": {
   "display_name": "Python 3.8.3 ('base')",
   "language": "python",
   "name": "python3"
  },
  "language_info": {
   "codemirror_mode": {
    "name": "ipython",
    "version": 3
   },
   "file_extension": ".py",
   "mimetype": "text/x-python",
   "name": "python",
   "nbconvert_exporter": "python",
   "pygments_lexer": "ipython3",
   "version": "3.8.3"
  },
  "orig_nbformat": 4
 },
 "nbformat": 4,
 "nbformat_minor": 2
}
